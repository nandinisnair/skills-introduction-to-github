{
  "nbformat": 4,
  "nbformat_minor": 0,
  "metadata": {
    "colab": {
      "provenance": [],
      "authorship_tag": "ABX9TyNGvBpaGbhPTP/YIO1N7aOe",
      "include_colab_link": true
    },
    "kernelspec": {
      "name": "python3",
      "display_name": "Python 3"
    },
    "language_info": {
      "name": "python"
    }
  },
  "cells": [
    {
      "cell_type": "markdown",
      "metadata": {
        "id": "view-in-github",
        "colab_type": "text"
      },
      "source": [
        "<a href=\"https://colab.research.google.com/github/nandinisnair/skills-introduction-to-github/blob/main/Untitled4.ipynb\" target=\"_parent\"><img src=\"https://colab.research.google.com/assets/colab-badge.svg\" alt=\"Open In Colab\"/></a>"
      ]
    },
    {
      "cell_type": "code",
      "source": [
        "# Required imports\n",
        "import networkx as nx\n",
        "import random\n",
        "import matplotlib.pyplot as plt\n",
        "from google.colab import files\n",
        "import numpy as np\n",
        "from collections import defaultdict\n",
        "!pip install python-docx\n",
        "import docx"
      ],
      "metadata": {
        "colab": {
          "base_uri": "https://localhost:8080/"
        },
        "id": "-C2s5m4I-sz2",
        "outputId": "bcc8dad1-e03b-4db0-ee49-c46d7d5d9e1f"
      },
      "execution_count": 31,
      "outputs": [
        {
          "output_type": "stream",
          "name": "stdout",
          "text": [
            "Requirement already satisfied: python-docx in /usr/local/lib/python3.11/dist-packages (1.1.2)\n",
            "Requirement already satisfied: lxml>=3.1.0 in /usr/local/lib/python3.11/dist-packages (from python-docx) (5.3.0)\n",
            "Requirement already satisfied: typing-extensions>=4.9.0 in /usr/local/lib/python3.11/dist-packages (from python-docx) (4.12.2)\n"
          ]
        }
      ]
    },
    {
      "cell_type": "code",
      "source": [
        "# Step 1: Upload the `.docx` file and read edges\n",
        "uploaded = files.upload()\n",
        "file_name = list(uploaded.keys())[0]\n",
        "\n",
        "doc = docx.Document(file_name)\n",
        "edges = []\n",
        "\n",
        "for paragraph in doc.paragraphs:\n",
        "    try:\n",
        "        line = paragraph.text\n",
        "        if not line.startswith('%'):\n",
        "            source, target, weight = line.strip().split()\n",
        "            edges.append([int(source), int(target), float(weight)])\n",
        "    except ValueError:\n",
        "        pass"
      ],
      "metadata": {
        "colab": {
          "base_uri": "https://localhost:8080/",
          "height": 73
        },
        "id": "Y1LaFysNIVpX",
        "outputId": "0668a832-bc4e-43c5-dead-d16fe0ef98e4"
      },
      "execution_count": 12,
      "outputs": [
        {
          "output_type": "display_data",
          "data": {
            "text/plain": [
              "<IPython.core.display.HTML object>"
            ],
            "text/html": [
              "\n",
              "     <input type=\"file\" id=\"files-6587da36-1eb5-46f3-8bee-dbd794dfc94f\" name=\"files[]\" multiple disabled\n",
              "        style=\"border:none\" />\n",
              "     <output id=\"result-6587da36-1eb5-46f3-8bee-dbd794dfc94f\">\n",
              "      Upload widget is only available when the cell has been executed in the\n",
              "      current browser session. Please rerun this cell to enable.\n",
              "      </output>\n",
              "      <script>// Copyright 2017 Google LLC\n",
              "//\n",
              "// Licensed under the Apache License, Version 2.0 (the \"License\");\n",
              "// you may not use this file except in compliance with the License.\n",
              "// You may obtain a copy of the License at\n",
              "//\n",
              "//      http://www.apache.org/licenses/LICENSE-2.0\n",
              "//\n",
              "// Unless required by applicable law or agreed to in writing, software\n",
              "// distributed under the License is distributed on an \"AS IS\" BASIS,\n",
              "// WITHOUT WARRANTIES OR CONDITIONS OF ANY KIND, either express or implied.\n",
              "// See the License for the specific language governing permissions and\n",
              "// limitations under the License.\n",
              "\n",
              "/**\n",
              " * @fileoverview Helpers for google.colab Python module.\n",
              " */\n",
              "(function(scope) {\n",
              "function span(text, styleAttributes = {}) {\n",
              "  const element = document.createElement('span');\n",
              "  element.textContent = text;\n",
              "  for (const key of Object.keys(styleAttributes)) {\n",
              "    element.style[key] = styleAttributes[key];\n",
              "  }\n",
              "  return element;\n",
              "}\n",
              "\n",
              "// Max number of bytes which will be uploaded at a time.\n",
              "const MAX_PAYLOAD_SIZE = 100 * 1024;\n",
              "\n",
              "function _uploadFiles(inputId, outputId) {\n",
              "  const steps = uploadFilesStep(inputId, outputId);\n",
              "  const outputElement = document.getElementById(outputId);\n",
              "  // Cache steps on the outputElement to make it available for the next call\n",
              "  // to uploadFilesContinue from Python.\n",
              "  outputElement.steps = steps;\n",
              "\n",
              "  return _uploadFilesContinue(outputId);\n",
              "}\n",
              "\n",
              "// This is roughly an async generator (not supported in the browser yet),\n",
              "// where there are multiple asynchronous steps and the Python side is going\n",
              "// to poll for completion of each step.\n",
              "// This uses a Promise to block the python side on completion of each step,\n",
              "// then passes the result of the previous step as the input to the next step.\n",
              "function _uploadFilesContinue(outputId) {\n",
              "  const outputElement = document.getElementById(outputId);\n",
              "  const steps = outputElement.steps;\n",
              "\n",
              "  const next = steps.next(outputElement.lastPromiseValue);\n",
              "  return Promise.resolve(next.value.promise).then((value) => {\n",
              "    // Cache the last promise value to make it available to the next\n",
              "    // step of the generator.\n",
              "    outputElement.lastPromiseValue = value;\n",
              "    return next.value.response;\n",
              "  });\n",
              "}\n",
              "\n",
              "/**\n",
              " * Generator function which is called between each async step of the upload\n",
              " * process.\n",
              " * @param {string} inputId Element ID of the input file picker element.\n",
              " * @param {string} outputId Element ID of the output display.\n",
              " * @return {!Iterable<!Object>} Iterable of next steps.\n",
              " */\n",
              "function* uploadFilesStep(inputId, outputId) {\n",
              "  const inputElement = document.getElementById(inputId);\n",
              "  inputElement.disabled = false;\n",
              "\n",
              "  const outputElement = document.getElementById(outputId);\n",
              "  outputElement.innerHTML = '';\n",
              "\n",
              "  const pickedPromise = new Promise((resolve) => {\n",
              "    inputElement.addEventListener('change', (e) => {\n",
              "      resolve(e.target.files);\n",
              "    });\n",
              "  });\n",
              "\n",
              "  const cancel = document.createElement('button');\n",
              "  inputElement.parentElement.appendChild(cancel);\n",
              "  cancel.textContent = 'Cancel upload';\n",
              "  const cancelPromise = new Promise((resolve) => {\n",
              "    cancel.onclick = () => {\n",
              "      resolve(null);\n",
              "    };\n",
              "  });\n",
              "\n",
              "  // Wait for the user to pick the files.\n",
              "  const files = yield {\n",
              "    promise: Promise.race([pickedPromise, cancelPromise]),\n",
              "    response: {\n",
              "      action: 'starting',\n",
              "    }\n",
              "  };\n",
              "\n",
              "  cancel.remove();\n",
              "\n",
              "  // Disable the input element since further picks are not allowed.\n",
              "  inputElement.disabled = true;\n",
              "\n",
              "  if (!files) {\n",
              "    return {\n",
              "      response: {\n",
              "        action: 'complete',\n",
              "      }\n",
              "    };\n",
              "  }\n",
              "\n",
              "  for (const file of files) {\n",
              "    const li = document.createElement('li');\n",
              "    li.append(span(file.name, {fontWeight: 'bold'}));\n",
              "    li.append(span(\n",
              "        `(${file.type || 'n/a'}) - ${file.size} bytes, ` +\n",
              "        `last modified: ${\n",
              "            file.lastModifiedDate ? file.lastModifiedDate.toLocaleDateString() :\n",
              "                                    'n/a'} - `));\n",
              "    const percent = span('0% done');\n",
              "    li.appendChild(percent);\n",
              "\n",
              "    outputElement.appendChild(li);\n",
              "\n",
              "    const fileDataPromise = new Promise((resolve) => {\n",
              "      const reader = new FileReader();\n",
              "      reader.onload = (e) => {\n",
              "        resolve(e.target.result);\n",
              "      };\n",
              "      reader.readAsArrayBuffer(file);\n",
              "    });\n",
              "    // Wait for the data to be ready.\n",
              "    let fileData = yield {\n",
              "      promise: fileDataPromise,\n",
              "      response: {\n",
              "        action: 'continue',\n",
              "      }\n",
              "    };\n",
              "\n",
              "    // Use a chunked sending to avoid message size limits. See b/62115660.\n",
              "    let position = 0;\n",
              "    do {\n",
              "      const length = Math.min(fileData.byteLength - position, MAX_PAYLOAD_SIZE);\n",
              "      const chunk = new Uint8Array(fileData, position, length);\n",
              "      position += length;\n",
              "\n",
              "      const base64 = btoa(String.fromCharCode.apply(null, chunk));\n",
              "      yield {\n",
              "        response: {\n",
              "          action: 'append',\n",
              "          file: file.name,\n",
              "          data: base64,\n",
              "        },\n",
              "      };\n",
              "\n",
              "      let percentDone = fileData.byteLength === 0 ?\n",
              "          100 :\n",
              "          Math.round((position / fileData.byteLength) * 100);\n",
              "      percent.textContent = `${percentDone}% done`;\n",
              "\n",
              "    } while (position < fileData.byteLength);\n",
              "  }\n",
              "\n",
              "  // All done.\n",
              "  yield {\n",
              "    response: {\n",
              "      action: 'complete',\n",
              "    }\n",
              "  };\n",
              "}\n",
              "\n",
              "scope.google = scope.google || {};\n",
              "scope.google.colab = scope.google.colab || {};\n",
              "scope.google.colab._files = {\n",
              "  _uploadFiles,\n",
              "  _uploadFilesContinue,\n",
              "};\n",
              "})(self);\n",
              "</script> "
            ]
          },
          "metadata": {}
        },
        {
          "output_type": "stream",
          "name": "stdout",
          "text": [
            "Saving out.moreno_oz_oz.docx to out.moreno_oz_oz (1).docx\n"
          ]
        }
      ]
    },
    {
      "cell_type": "code",
      "source": [
        "# Step 2: Create directed and undirected graphs\n",
        "G_directed = nx.DiGraph()\n",
        "for edge in edges:\n",
        "    source, target, weight = edge\n",
        "    G_directed.add_edge(source, target, weight=weight)\n",
        "\n",
        "# Convert to an undirected graph by averaging edge weights\n",
        "G = nx.Graph()\n",
        "for u, v, data in G_directed.edges(data=True):\n",
        "    weight = data[\"weight\"]\n",
        "    if G.has_edge(u, v):\n",
        "        G[u][v][\"weight\"] = (G[u][v][\"weight\"] + weight) / 2\n",
        "    else:\n",
        "        G.add_edge(u, v, weight=weight)\n",
        "\n",
        "print(f\"Graph has {G.number_of_nodes()} nodes and {G.number_of_edges()} edges.\")"
      ],
      "metadata": {
        "colab": {
          "base_uri": "https://localhost:8080/"
        },
        "id": "wdP_pxgpIhqG",
        "outputId": "796d2fbc-7896-439b-e31b-37b3498e92fe"
      },
      "execution_count": 13,
      "outputs": [
        {
          "output_type": "stream",
          "name": "stdout",
          "text": [
            "Graph has 217 nodes and 1839 edges.\n"
          ]
        }
      ]
    },
    {
      "cell_type": "code",
      "source": [
        "# Step 2: Define the SIR simulation\n",
        "def simulate_SIR(G, beta=0.3, gamma=0.1, initial_fraction=0.01):\n",
        "    nodes = list(G.nodes())\n",
        "    random.shuffle(nodes)\n",
        "    num_initial_infected = max(1, int(initial_fraction * len(nodes)))\n",
        "    infected = set(nodes[:num_initial_infected])\n",
        "    susceptible = set(nodes[num_initial_infected:])\n",
        "    recovered = set()\n",
        "\n",
        "    S, I, R = [len(susceptible)], [len(infected)], [len(recovered)]\n",
        "\n",
        "    while infected:\n",
        "        new_infected = set()\n",
        "        new_recovered = set()\n",
        "        for node in infected:\n",
        "            for neighbor in G.neighbors(node):\n",
        "                if neighbor in susceptible and random.random() < beta:\n",
        "                    new_infected.add(neighbor)\n",
        "            if random.random() < gamma:\n",
        "                new_recovered.add(node)\n",
        "        susceptible -= new_infected\n",
        "        infected = (infected | new_infected) - new_recovered\n",
        "        recovered |= new_recovered\n",
        "\n",
        "        S.append(len(susceptible))\n",
        "        I.append(len(infected))\n",
        "        R.append(len(recovered))\n",
        "\n",
        "    return S, I, R"
      ],
      "metadata": {
        "id": "qUyUqWaaInEd"
      },
      "execution_count": 20,
      "outputs": []
    },
    {
      "cell_type": "code",
      "source": [
        "# Step 3: Vaccination strategies\n",
        "def inverse_weights(G):\n",
        "    G_inv = G.copy()\n",
        "    for u, v, data in G_inv.edges(data=True):\n",
        "        data[\"weight\"] = 1.0 / data[\"weight\"]\n",
        "    return G_inv\n",
        "\n",
        "def vaccinate_by_centrality(G, centrality_type, fraction=0.08):\n",
        "    if centrality_type == \"strength\":\n",
        "        centrality = dict(G.degree(weight=\"weight\"))\n",
        "    elif centrality_type == \"betweenness_binary\":\n",
        "        centrality = nx.betweenness_centrality(G)\n",
        "    elif centrality_type == \"betweenness_weighted\":\n",
        "        G_inv = inverse_weights(G)\n",
        "        centrality = nx.betweenness_centrality(G_inv, weight=\"weight\")\n",
        "    else:\n",
        "        raise ValueError(\"Invalid centrality type\")\n",
        "\n",
        "    # Remove top fraction of nodes based on centrality\n",
        "    num_to_remove = int(len(G) * fraction)\n",
        "    nodes_to_remove = sorted(centrality, key=centrality.get, reverse=True)[:num_to_remove]\n",
        "    G_vaccinated = G.copy()\n",
        "    G_vaccinated.remove_nodes_from(nodes_to_remove)\n",
        "    return G_vaccinated\n"
      ],
      "metadata": {
        "id": "uPTzFfhmIrgG"
      },
      "execution_count": 14,
      "outputs": []
    },
    {
      "cell_type": "code",
      "source": [
        "# Step 4: Average SIR results\n",
        "def average_SIR_results(G, iterations=50, beta=0.3, gamma=0.1, initial_fraction=0.01):\n",
        "    LCC, TI, IP = [], [], []\n",
        "    for _ in range(iterations):\n",
        "        # Ensure simulate_SIR is defined before calling it\n",
        "        S, I, R = simulate_SIR(G, beta, gamma, initial_fraction)\n",
        "        largest_cc = len(max(nx.connected_components(G), key=len))\n",
        "        LCC.append(largest_cc)\n",
        "        TI.append(R[-1])  # Total infected\n",
        "        IP.append(max(I))  # Infection peak\n",
        "    return np.mean(LCC), np.mean(TI), np.mean(IP)"
      ],
      "metadata": {
        "id": "7DPd9AdSLQ7E"
      },
      "execution_count": 21,
      "outputs": []
    },
    {
      "cell_type": "code",
      "source": [
        "# Step 5: Compare strategies\n",
        "centrality_measures = [\"strength\", \"betweenness_binary\", \"betweenness_weighted\"]\n",
        "results = {}\n",
        "\n",
        "for measure in centrality_measures:\n",
        "    G_vaccinated = vaccinate_by_centrality(G, measure, fraction=0.08)\n",
        "    avg_LCC, avg_TI, avg_IP = average_SIR_results(G_vaccinated)\n",
        "    results[measure] = {\"LCC\": avg_LCC, \"TI\": avg_TI, \"IP\": avg_IP}"
      ],
      "metadata": {
        "id": "5GjIxnF4LV8V"
      },
      "execution_count": 22,
      "outputs": []
    },
    {
      "cell_type": "code",
      "source": [
        "# Step 6: Plot results\n",
        "measures = list(results.keys())\n",
        "LCC_vals = [results[m][\"LCC\"] for m in measures]\n",
        "TI_vals = [results[m][\"TI\"] for m in measures]\n",
        "IP_vals = [results[m][\"IP\"] for m in measures]"
      ],
      "metadata": {
        "id": "pP6q9uHxO1Yf"
      },
      "execution_count": 23,
      "outputs": []
    },
    {
      "cell_type": "code",
      "source": [
        "x = np.arange(len(measures))\n",
        "width = 0.3\n",
        "\n",
        "plt.figure(figsize=(12, 6))\n",
        "plt.bar(x - width, LCC_vals, width, label=\"LCC\", color=\"indigo\")\n",
        "plt.bar(x, TI_vals, width, label=\"TI\", color=\"pink\")\n",
        "plt.bar(x + width, IP_vals, width, label=\"IP\", color=\"purple\")\n",
        "plt.xlabel(\"Vaccination Strategies\")\n",
        "plt.ylabel(\"Metrics\")\n",
        "plt.title(\"Comparison of Vaccination Strategies\")\n",
        "plt.xticks(x, measures)\n",
        "plt.legend()\n",
        "plt.show()"
      ],
      "metadata": {
        "colab": {
          "base_uri": "https://localhost:8080/",
          "height": 564
        },
        "id": "PvHKGH4AO4Qq",
        "outputId": "d3665d78-fd6f-40f8-b3f5-51d5b061d911"
      },
      "execution_count": 30,
      "outputs": [
        {
          "output_type": "display_data",
          "data": {
            "text/plain": [
              "<Figure size 1200x600 with 1 Axes>"
            ],
            "image/png": "[encoded data removed]"
          },
          "metadata": {}
        }
      ]
    }
  ]
}